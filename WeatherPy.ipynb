{
 "cells": [
  {
   "cell_type": "code",
   "execution_count": 86,
   "metadata": {
    "scrolled": true
   },
   "outputs": [],
   "source": [
    "# Dependencies and Setup\n",
    "import matplotlib.pyplot as plt\n",
    "import pandas as pd\n",
    "import numpy as np\n",
    "import requests\n",
    "import time\n",
    "import urllib\n",
    "from scipy.stats import linregress\n",
    "from random import *\n",
    "from api_keys import weather_api_key\n",
    "from api_keys import g_key\n",
    "from citipy import citipy\n",
    "output_data_file = \"output_data/cities.csv\""
   ]
  },
  {
   "cell_type": "code",
   "execution_count": 87,
   "metadata": {},
   "outputs": [],
   "source": [
    "# Select random latitude (from -90 to +90)\n",
    "city_list = pd.DataFrame()\n",
    "for i in range(600):\n",
    "    lat=(random()-.5)*randint(-180,180)\n",
    "    lon=(random()-.5)*randint(-360,360)\n",
    "    coords=pd.DataFrame([[lat,lon]], columns=['lat','lon'])\n",
    "    city_list=city_list.append(coords)    \n",
    "city_list=city_list.reset_index()\n",
    "city_list=city_list[['lat','lon']]"
   ]
  },
  {
   "cell_type": "code",
   "execution_count": 88,
   "metadata": {},
   "outputs": [],
   "source": [
    "%%capture\n",
    "# Use Citipy to find the nearest city to each pair of latlongs\n",
    "for row in range(0,len(city_list)):\n",
    "    lat = city_list.loc[row]['lat']\n",
    "    lon = city_list.loc[row]['lon']    \n",
    "    city = citipy.nearest_city(lat,lon)\n",
    "    city_list.set_value(row, \"city\", city.city_name.title())\n",
    "    city_list.set_value(row, \"country\", city.country_code.upper())"
   ]
  },
  {
   "cell_type": "code",
   "execution_count": 89,
   "metadata": {},
   "outputs": [
    {
     "data": {
      "text/html": [
       "<div>\n",
       "<style scoped>\n",
       "    .dataframe tbody tr th:only-of-type {\n",
       "        vertical-align: middle;\n",
       "    }\n",
       "\n",
       "    .dataframe tbody tr th {\n",
       "        vertical-align: top;\n",
       "    }\n",
       "\n",
       "    .dataframe thead th {\n",
       "        text-align: right;\n",
       "    }\n",
       "</style>\n",
       "<table border=\"1\" class=\"dataframe\">\n",
       "  <thead>\n",
       "    <tr style=\"text-align: right;\">\n",
       "      <th></th>\n",
       "      <th>lat</th>\n",
       "      <th>lon</th>\n",
       "      <th>city</th>\n",
       "      <th>country</th>\n",
       "    </tr>\n",
       "  </thead>\n",
       "  <tbody>\n",
       "    <tr>\n",
       "      <td>595</td>\n",
       "      <td>-1.892098</td>\n",
       "      <td>0.024574</td>\n",
       "      <td>Takoradi</td>\n",
       "      <td>GH</td>\n",
       "    </tr>\n",
       "    <tr>\n",
       "      <td>596</td>\n",
       "      <td>-10.202234</td>\n",
       "      <td>-21.817459</td>\n",
       "      <td>Georgetown</td>\n",
       "      <td>SH</td>\n",
       "    </tr>\n",
       "    <tr>\n",
       "      <td>597</td>\n",
       "      <td>-27.842778</td>\n",
       "      <td>-11.650714</td>\n",
       "      <td>Jamestown</td>\n",
       "      <td>SH</td>\n",
       "    </tr>\n",
       "    <tr>\n",
       "      <td>598</td>\n",
       "      <td>8.806647</td>\n",
       "      <td>-89.860778</td>\n",
       "      <td>Santa Cruz</td>\n",
       "      <td>CR</td>\n",
       "    </tr>\n",
       "    <tr>\n",
       "      <td>599</td>\n",
       "      <td>8.259172</td>\n",
       "      <td>-146.978732</td>\n",
       "      <td>Hilo</td>\n",
       "      <td>US</td>\n",
       "    </tr>\n",
       "  </tbody>\n",
       "</table>\n",
       "</div>"
      ],
      "text/plain": [
       "           lat         lon        city country\n",
       "595  -1.892098    0.024574    Takoradi      GH\n",
       "596 -10.202234  -21.817459  Georgetown      SH\n",
       "597 -27.842778  -11.650714   Jamestown      SH\n",
       "598   8.806647  -89.860778  Santa Cruz      CR\n",
       "599   8.259172 -146.978732        Hilo      US"
      ]
     },
     "execution_count": 89,
     "metadata": {},
     "output_type": "execute_result"
    }
   ],
   "source": [
    "# Check data look for readable\n",
    "city_list.head(5)\n",
    "city_list.tail(5)"
   ]
  },
  {
   "cell_type": "code",
   "execution_count": 97,
   "metadata": {},
   "outputs": [
    {
     "ename": "IndentationError",
     "evalue": "unexpected indent (<ipython-input-97-f52797eb7345>, line 10)",
     "output_type": "error",
     "traceback": [
      "\u001b[0;36m  File \u001b[0;32m\"<ipython-input-97-f52797eb7345>\"\u001b[0;36m, line \u001b[0;32m10\u001b[0m\n\u001b[0;31m    city = city_list.loc[row]['city']\u001b[0m\n\u001b[0m    ^\u001b[0m\n\u001b[0;31mIndentationError\u001b[0m\u001b[0;31m:\u001b[0m unexpected indent\n"
     ]
    }
   ],
   "source": [
    "%%capture\n",
    "# Add lat-longs to the dataframe\n",
    "base_url = \"https://maps.googleapis.com/maps/api/geocode/json\"\n",
    "city_list['actual_lat']=''\n",
    "city_list['actual_lon']=''\n",
    "city_list\n",
    "lng = geo_data[\"results\"][0][\"geometry\"][\"location\"][\"lng\"]\n",
    "for row in range(0,len(city_list)):   \n",
    "    try:    \n",
    "        print(row)\n",
    "            city = city_list.loc[row]['city']\n",
    "            country = city_list.loc[row]['country']\n",
    "            address = str(city+'+'+country)\n",
    "            params = {\"address\": address, \"key\": g_key}\n",
    "            response = requests.get(base_url, params=params)\n",
    "            geo_data = response.json()\n",
    "            lat = geo_data[\"results\"][0][\"geometry\"][\"location\"][\"lat\"]\n",
    "            lng = geo_data[\"results\"][0][\"geometry\"][\"location\"][\"lng\"]\n",
    "        except IndexError:\n",
    "            city_list.set_value(row, \"actual_lat\", lat)\n",
    "            city_list.set_value(row, \"actual_lon\", lng)"
   ]
  },
  {
   "cell_type": "code",
   "execution_count": 98,
   "metadata": {},
   "outputs": [
    {
     "data": {
      "text/html": [
       "<div>\n",
       "<style scoped>\n",
       "    .dataframe tbody tr th:only-of-type {\n",
       "        vertical-align: middle;\n",
       "    }\n",
       "\n",
       "    .dataframe tbody tr th {\n",
       "        vertical-align: top;\n",
       "    }\n",
       "\n",
       "    .dataframe thead th {\n",
       "        text-align: right;\n",
       "    }\n",
       "</style>\n",
       "<table border=\"1\" class=\"dataframe\">\n",
       "  <thead>\n",
       "    <tr style=\"text-align: right;\">\n",
       "      <th></th>\n",
       "      <th>lat</th>\n",
       "      <th>lon</th>\n",
       "      <th>city</th>\n",
       "      <th>country</th>\n",
       "      <th>actual_lat</th>\n",
       "      <th>actual_lon</th>\n",
       "    </tr>\n",
       "  </thead>\n",
       "  <tbody>\n",
       "    <tr>\n",
       "      <td>595</td>\n",
       "      <td>-1.892098</td>\n",
       "      <td>0.024574</td>\n",
       "      <td>Takoradi</td>\n",
       "      <td>GH</td>\n",
       "      <td></td>\n",
       "      <td></td>\n",
       "    </tr>\n",
       "    <tr>\n",
       "      <td>596</td>\n",
       "      <td>-10.202234</td>\n",
       "      <td>-21.817459</td>\n",
       "      <td>Georgetown</td>\n",
       "      <td>SH</td>\n",
       "      <td></td>\n",
       "      <td></td>\n",
       "    </tr>\n",
       "    <tr>\n",
       "      <td>597</td>\n",
       "      <td>-27.842778</td>\n",
       "      <td>-11.650714</td>\n",
       "      <td>Jamestown</td>\n",
       "      <td>SH</td>\n",
       "      <td></td>\n",
       "      <td></td>\n",
       "    </tr>\n",
       "    <tr>\n",
       "      <td>598</td>\n",
       "      <td>8.806647</td>\n",
       "      <td>-89.860778</td>\n",
       "      <td>Santa Cruz</td>\n",
       "      <td>CR</td>\n",
       "      <td></td>\n",
       "      <td></td>\n",
       "    </tr>\n",
       "    <tr>\n",
       "      <td>599</td>\n",
       "      <td>8.259172</td>\n",
       "      <td>-146.978732</td>\n",
       "      <td>Hilo</td>\n",
       "      <td>US</td>\n",
       "      <td></td>\n",
       "      <td></td>\n",
       "    </tr>\n",
       "  </tbody>\n",
       "</table>\n",
       "</div>"
      ],
      "text/plain": [
       "           lat         lon        city country actual_lat actual_lon\n",
       "595  -1.892098    0.024574    Takoradi      GH                      \n",
       "596 -10.202234  -21.817459  Georgetown      SH                      \n",
       "597 -27.842778  -11.650714   Jamestown      SH                      \n",
       "598   8.806647  -89.860778  Santa Cruz      CR                      \n",
       "599   8.259172 -146.978732        Hilo      US                      "
      ]
     },
     "execution_count": 98,
     "metadata": {},
     "output_type": "execute_result"
    }
   ],
   "source": [
    "# Check the DataFrame\n",
    "city_list.head(5)\n",
    "city_list.tail(5)"
   ]
  },
  {
   "cell_type": "code",
   "execution_count": 99,
   "metadata": {},
   "outputs": [],
   "source": [
    "%%capture\n",
    "# Write all weather data into DataFrame \n",
    "base_url = 'http://api.openweathermap.org/data/2.5/weather?'\n",
    "city_list['temp']=''\n",
    "city_list['clouds']=''\n",
    "city_list['humidity']=''\n",
    "city_list['wind_speed']=''\n",
    "rows_to_drop = []\n",
    "for row in range(0, len(city_list)):   \n",
    "    try:\n",
    "        lat = city_list.loc[row]['actual_lat']\n",
    "        lon = city_list.loc[row]['actual_lon']\n",
    "        query_url = base_url + 'units=imperial&lat='+str(lat) + '&lon='+ str(lon) +'&appid=' + weather_api_key\n",
    "        response = requests.get(query_url)\n",
    "        result=response.json()\n",
    "        city=city_list.loc[row]['city']\n",
    "        temp=float(result['main']['temp'])\n",
    "        clouds=result['clouds']['all']\n",
    "        humidity=result['main']['humidity']\n",
    "        wind_speed=result['wind']['speed']\n",
    "        city_list.set_value(row, \"temp\", temp)\n",
    "        city_list.set_value(row, \"clouds\", clouds)    \n",
    "        city_list.set_value(row, \"humidity\", humidity)\n",
    "        city_list.set_value(row, \"wind_speed\", wind_speed) \n",
    "    except KeyError:\n",
    "        rows_to_drop.append(row)"
   ]
  },
  {
   "cell_type": "code",
   "execution_count": 100,
   "metadata": {},
   "outputs": [
    {
     "data": {
      "text/html": [
       "<div>\n",
       "<style scoped>\n",
       "    .dataframe tbody tr th:only-of-type {\n",
       "        vertical-align: middle;\n",
       "    }\n",
       "\n",
       "    .dataframe tbody tr th {\n",
       "        vertical-align: top;\n",
       "    }\n",
       "\n",
       "    .dataframe thead th {\n",
       "        text-align: right;\n",
       "    }\n",
       "</style>\n",
       "<table border=\"1\" class=\"dataframe\">\n",
       "  <thead>\n",
       "    <tr style=\"text-align: right;\">\n",
       "      <th></th>\n",
       "      <th>lat</th>\n",
       "      <th>lon</th>\n",
       "      <th>city</th>\n",
       "      <th>country</th>\n",
       "      <th>actual_lat</th>\n",
       "      <th>actual_lon</th>\n",
       "      <th>temp</th>\n",
       "      <th>clouds</th>\n",
       "      <th>humidity</th>\n",
       "      <th>wind_speed</th>\n",
       "    </tr>\n",
       "  </thead>\n",
       "  <tbody>\n",
       "    <tr>\n",
       "      <td>595</td>\n",
       "      <td>-1.892098</td>\n",
       "      <td>0.024574</td>\n",
       "      <td>Takoradi</td>\n",
       "      <td>GH</td>\n",
       "      <td></td>\n",
       "      <td></td>\n",
       "      <td></td>\n",
       "      <td></td>\n",
       "      <td></td>\n",
       "      <td></td>\n",
       "    </tr>\n",
       "    <tr>\n",
       "      <td>596</td>\n",
       "      <td>-10.202234</td>\n",
       "      <td>-21.817459</td>\n",
       "      <td>Georgetown</td>\n",
       "      <td>SH</td>\n",
       "      <td></td>\n",
       "      <td></td>\n",
       "      <td></td>\n",
       "      <td></td>\n",
       "      <td></td>\n",
       "      <td></td>\n",
       "    </tr>\n",
       "    <tr>\n",
       "      <td>597</td>\n",
       "      <td>-27.842778</td>\n",
       "      <td>-11.650714</td>\n",
       "      <td>Jamestown</td>\n",
       "      <td>SH</td>\n",
       "      <td></td>\n",
       "      <td></td>\n",
       "      <td></td>\n",
       "      <td></td>\n",
       "      <td></td>\n",
       "      <td></td>\n",
       "    </tr>\n",
       "    <tr>\n",
       "      <td>598</td>\n",
       "      <td>8.806647</td>\n",
       "      <td>-89.860778</td>\n",
       "      <td>Santa Cruz</td>\n",
       "      <td>CR</td>\n",
       "      <td></td>\n",
       "      <td></td>\n",
       "      <td></td>\n",
       "      <td></td>\n",
       "      <td></td>\n",
       "      <td></td>\n",
       "    </tr>\n",
       "    <tr>\n",
       "      <td>599</td>\n",
       "      <td>8.259172</td>\n",
       "      <td>-146.978732</td>\n",
       "      <td>Hilo</td>\n",
       "      <td>US</td>\n",
       "      <td></td>\n",
       "      <td></td>\n",
       "      <td></td>\n",
       "      <td></td>\n",
       "      <td></td>\n",
       "      <td></td>\n",
       "    </tr>\n",
       "  </tbody>\n",
       "</table>\n",
       "</div>"
      ],
      "text/plain": [
       "           lat         lon        city country actual_lat actual_lon temp  \\\n",
       "595  -1.892098    0.024574    Takoradi      GH                              \n",
       "596 -10.202234  -21.817459  Georgetown      SH                              \n",
       "597 -27.842778  -11.650714   Jamestown      SH                              \n",
       "598   8.806647  -89.860778  Santa Cruz      CR                              \n",
       "599   8.259172 -146.978732        Hilo      US                              \n",
       "\n",
       "    clouds humidity wind_speed  \n",
       "595                             \n",
       "596                             \n",
       "597                             \n",
       "598                             \n",
       "599                             "
      ]
     },
     "execution_count": 100,
     "metadata": {},
     "output_type": "execute_result"
    }
   ],
   "source": [
    "city_list.head()\n",
    "city_list.tail()"
   ]
  },
  {
   "cell_type": "code",
   "execution_count": 103,
   "metadata": {},
   "outputs": [],
   "source": [
    "# Write csv file\n",
    "city_list.head()\n",
    "city_list.to_csv('weather_data_output.csv')"
   ]
  },
  {
   "cell_type": "markdown",
   "metadata": {},
   "source": [
    "#### Latitude vs. Temperature Plot"
   ]
  },
  {
   "cell_type": "code",
   "execution_count": 118,
   "metadata": {
    "scrolled": true
   },
   "outputs": [],
   "source": [
    "%%capture\n",
    "# Temperature vs. Latitude plot\n",
    "x_axis = city_list['actual_lat']\n",
    "y_axis = city_list['temp']\n",
    "x_min=x_axis.min()-10\n",
    "x_max=x_axis.max()+10\n",
    "y_min=y_axis.min()-10\n",
    "y_max=y_axis.max()+10\n",
    "plt.title(\"Temperature vs. Latitude\")\n",
    "plt.xlabel(\"Latitude\")\n",
    "plt.ylabel(\"Temperture\")\n",
    "plt.scatter(x_axis, y_axis, marker=\"o\", color=\"red\")\n",
    "plt.savefig('Output/Fig1_Temp_Latitude.png')\n",
    "plt.show()"
   ]
  },
  {
   "cell_type": "markdown",
   "metadata": {},
   "source": [
    "#### Latitude vs. Humidity Plot"
   ]
  },
  {
   "cell_type": "code",
   "execution_count": 119,
   "metadata": {},
   "outputs": [],
   "source": [
    "%%capture\n",
    "# Humidity (%) vs. Latitude\n",
    "x_axis = city_list['actual_lat']\n",
    "y_axis = city_list['humidity']\n",
    "x_min=x_axis.min()-10\n",
    "x_max=x_axis.max()+10\n",
    "y_min=y_axis.min()-10\n",
    "y_max=y_axis.max()+10\n",
    "plt.xlim(x_min,x_max)\n",
    "plt.ylim(y_min,y_max)\n",
    "plt.title(\"Humidity (%) vs. Latitude\")\n",
    "plt.xlabel(\"Latitude\")\n",
    "plt.ylabel(\"Humidity (%)\")\n",
    "plt.scatter(x_axis, y_axis, marker=\"o\", color=\"red\")\n",
    "plt.savefig('Output/Fig2_Humidity_Latitude.png')\n",
    "plt.show()"
   ]
  },
  {
   "cell_type": "markdown",
   "metadata": {},
   "source": [
    "#### Latitude vs. Cloudiness Plot"
   ]
  },
  {
   "cell_type": "code",
   "execution_count": 120,
   "metadata": {},
   "outputs": [],
   "source": [
    "%%capture\n",
    "# Cloudiness (%) vs. Latitude\n",
    "x_axis = city_list['actual_lat']\n",
    "y_axis = city_list['clouds']\n",
    "x_min=x_axis.min()-10\n",
    "x_max=x_axis.max()+10\n",
    "y_min=y_axis.min()-10\n",
    "y_max=y_axis.max()+10\n",
    "plt.xlim(x_min,x_max)\n",
    "plt.ylim(y_min,y_max)\n",
    "plt.title(\"Cloudiness (%) vs. Latitude\")\n",
    "plt.xlabel(\"Latitude\")\n",
    "plt.ylabel(\"Cloudiness (%)\")\n",
    "plt.scatter(x_axis, y_axis, marker=\"o\", color=\"red\")\n",
    "plt.savefig('Output/Fig3_Cloudiness_Latitude.png')\n",
    "plt.show()"
   ]
  },
  {
   "cell_type": "markdown",
   "metadata": {},
   "source": [
    "#### Latitude vs. Wind Speed Plot"
   ]
  },
  {
   "cell_type": "code",
   "execution_count": 122,
   "metadata": {},
   "outputs": [],
   "source": [
    "%%capture\n",
    "# Wind Speed (mph) vs. Latitude\n",
    "x_axis = city_list['actual_lat']\n",
    "y_axis = city_list['wind_speed']\n",
    "x_min=x_axis.min()-10\n",
    "x_max=x_axis.max()+10\n",
    "y_min=y_axis.min()-10\n",
    "y_max=y_axis.max()+10\n",
    "plt.xlim(x_min,x_max)\n",
    "plt.ylim(y_min,y_max)\n",
    "plt.title(\"Wind Speed (mph) vs. Latitude\")\n",
    "plt.xlabel(\"Latitude\")\n",
    "plt.ylabel(\"Wind Speed (mph)\")\n",
    "plt.scatter(x_axis, y_axis, marker=\"o\", color=\"red\")\n",
    "plt.savefig('Output/Fig4_WindSpeed_Latitude.png')\n",
    "plt.show()"
   ]
  }
 ],
 "metadata": {
  "anaconda-cloud": {},
  "kernel_info": {
   "name": "python3"
  },
  "kernelspec": {
   "display_name": "Python 3",
   "language": "python",
   "name": "python3"
  },
  "language_info": {
   "codemirror_mode": {
    "name": "ipython",
    "version": 3
   },
   "file_extension": ".py",
   "mimetype": "text/x-python",
   "name": "python",
   "nbconvert_exporter": "python",
   "pygments_lexer": "ipython3",
   "version": "3.7.4"
  },
  "latex_envs": {
   "LaTeX_envs_menu_present": true,
   "autoclose": false,
   "autocomplete": true,
   "bibliofile": "biblio.bib",
   "cite_by": "apalike",
   "current_citInitial": 1,
   "eqLabelWithNumbers": true,
   "eqNumInitial": 1,
   "hotkeys": {
    "equation": "Ctrl-E",
    "itemize": "Ctrl-I"
   },
   "labels_anchors": false,
   "latex_user_defs": false,
   "report_style_numbering": false,
   "user_envs_cfg": false
  },
  "nteract": {
   "version": "0.12.3"
  }
 },
 "nbformat": 4,
 "nbformat_minor": 2
}
